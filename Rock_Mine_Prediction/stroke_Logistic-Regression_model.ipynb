{
 "cells": [
  {
   "cell_type": "markdown",
   "id": "b15ff7e1",
   "metadata": {},
   "source": [
    "AI FINAL PROJECT"
   ]
  },
  {
   "cell_type": "markdown",
   "id": "885c8de7",
   "metadata": {},
   "source": [
    "• Read data  \n",
    "• Show head of data  \n",
    "• Shape  \n",
    "• Description of data  \n",
    "• Information of data  \n",
    "• Data Visualization  \n",
    "• Check columns and drop unnecessary columns  \n",
    "• Check Null value drop Null value or replace Null value  \n",
    "• Check Duplicated value drop duplicated value   \n",
    "• Encoding data by label encoder or one hot encoder   \n",
    "• Normalization Scaling data  \n",
    "• Split data to train test  \n",
    "• ML Model \n",
    "• Metrics \n",
    "• Confusion Matrix"
   ]
  },
  {
   "cell_type": "markdown",
   "id": "ac2ab32d",
   "metadata": {},
   "source": [
    "Read CSV File"
   ]
  },
  {
   "cell_type": "code",
   "execution_count": null,
   "id": "1c6947cd",
   "metadata": {},
   "outputs": [],
   "source": [
    "import pandas as pd "
   ]
  },
  {
   "cell_type": "code",
   "execution_count": null,
   "id": "2a224c55",
   "metadata": {},
   "outputs": [],
   "source": [
    "data=pd.read_csv('healthcare-dataset-stroke-data.csv')"
   ]
  },
  {
   "cell_type": "markdown",
   "id": "ae4b3bb6",
   "metadata": {},
   "source": [
    "Head Of Data"
   ]
  },
  {
   "cell_type": "code",
   "execution_count": null,
   "id": "6c23ff38",
   "metadata": {},
   "outputs": [],
   "source": [
    "data.head()"
   ]
  },
  {
   "cell_type": "markdown",
   "id": "f99026fc",
   "metadata": {},
   "source": [
    "Shape Of Data"
   ]
  },
  {
   "cell_type": "code",
   "execution_count": null,
   "id": "8a4e3ba8",
   "metadata": {},
   "outputs": [],
   "source": [
    "data.shape"
   ]
  },
  {
   "cell_type": "markdown",
   "id": "1bf139ab",
   "metadata": {},
   "source": [
    "Description Of Data"
   ]
  },
  {
   "cell_type": "code",
   "execution_count": null,
   "id": "367c5638",
   "metadata": {},
   "outputs": [],
   "source": [
    "data.describe()"
   ]
  },
  {
   "cell_type": "markdown",
   "id": "9b4ba381",
   "metadata": {},
   "source": [
    "Information Of Data"
   ]
  },
  {
   "cell_type": "code",
   "execution_count": null,
   "id": "5cec683f",
   "metadata": {},
   "outputs": [],
   "source": [
    "data.info()"
   ]
  },
  {
   "cell_type": "markdown",
   "id": "3fc0347e",
   "metadata": {},
   "source": [
    "Visualization Of Data"
   ]
  },
  {
   "cell_type": "code",
   "execution_count": null,
   "id": "0940ae16",
   "metadata": {},
   "outputs": [],
   "source": [
    "import matplotlib.pyplot as plt\n",
    "import seaborn as sns\n",
    "\n",
    "plt.figure(figsize=(6,4))\n",
    "sns.countplot(x='stroke', data=data)\n",
    "plt.title(\"distribution of stroke cases\")\n",
    "plt.xlabel(\"(yes=1,no=0),stroke cases\")\n",
    "plt.ylabel(\"number of patients\")\n",
    "plt.show()"
   ]
  },
  {
   "cell_type": "code",
   "execution_count": null,
   "id": "7e1dd838",
   "metadata": {},
   "outputs": [],
   "source": [
    "plt.figure(figsize=(10,6))\n",
    "sns.histplot(data=data, x='age', hue='stroke', bins=30, kde=True, multiple='stack')\n",
    "plt.title(\"distribution of age acording to strokag cases\")\n",
    "plt.xlabel(\"age\")\n",
    "plt.ylabel(\"number of patients\")\n",
    "plt.show()"
   ]
  },
  {
   "cell_type": "code",
   "execution_count": null,
   "id": "765f7b90",
   "metadata": {},
   "outputs": [],
   "source": [
    "plt.figure(figsize=(8,5))\n",
    "sns.countplot(x='Residence_type', hue='stroke', data=data)\n",
    "plt.title(\"stroke acording home\")\n",
    "plt.xlabel('Residence_type')\n",
    "plt.ylabel(\"number of cases\")\n",
    "plt.show()"
   ]
  },
  {
   "cell_type": "code",
   "execution_count": null,
   "id": "70a34365",
   "metadata": {},
   "outputs": [],
   "source": [
    "plt.figure(figsize=(10,6))\n",
    "sns.boxplot(x='stroke', y='bmi', data=data)\n",
    "plt.title(\"stroke acording bmi\")\n",
    "plt.xlabel('stoke,(yes=1,no=0)')\n",
    "plt.ylabel('(BMI)')\n",
    "plt.show()"
   ]
  },
  {
   "cell_type": "code",
   "execution_count": null,
   "id": "da3c19a3",
   "metadata": {},
   "outputs": [],
   "source": [
    "plt.figure(figsize=(10,6))\n",
    "sns.violinplot(x='stroke', y='avg_glucose_level', data=data)\n",
    "\n",
    "plt.title(\"stroke acording to avg_glucose_level\")\n",
    "plt.xlabel('stoke,(yes=1,no=0)')\n",
    "\n",
    "plt.ylabel(\"avg_glucose_level\")\n",
    "plt.show()"
   ]
  },
  {
   "cell_type": "code",
   "execution_count": null,
   "id": "08292504",
   "metadata": {},
   "outputs": [],
   "source": [
    "fig, axes = plt.subplots(2, 2, figsize=(15,10))\n",
    "sns.countplot(x='smoking_status', hue='stroke', data=data, ax=axes[1,1])\n",
    "axes[1,1].set_title(\"stroke acording smoking\")\n",
    "\n",
    "sns.countplot(x='gender', hue='stroke', data=data, ax=axes[0,0])\n",
    "axes[0,0].set_title('gender')\n",
    "\n",
    "sns.countplot(x='hypertension', hue='stroke', data=data, ax=axes[0,1])\n",
    "axes[0,1].set_title(\"hypertension\")\n",
    "\n",
    "sns.countplot(x='heart_disease', hue='stroke', data=data, ax=axes[1,0])\n",
    "axes[1,0].set_title(\"'heart_disease\")\n",
    "\n",
    "plt.tight_layout()\n",
    "plt.show()"
   ]
  },
  {
   "cell_type": "markdown",
   "id": "06a1061f",
   "metadata": {},
   "source": [
    "Show Columns of Data"
   ]
  },
  {
   "cell_type": "code",
   "execution_count": null,
   "id": "244cb03e",
   "metadata": {},
   "outputs": [],
   "source": [
    "data.columns"
   ]
  },
  {
   "cell_type": "markdown",
   "id": "90100d18",
   "metadata": {},
   "source": [
    "Drop ID Column"
   ]
  },
  {
   "cell_type": "code",
   "execution_count": null,
   "id": "4a769679",
   "metadata": {},
   "outputs": [],
   "source": [
    "data.drop(columns=\"id\",inplace=True)"
   ]
  },
  {
   "cell_type": "code",
   "execution_count": null,
   "id": "09724065",
   "metadata": {},
   "outputs": [],
   "source": [
    "data.columns"
   ]
  },
  {
   "cell_type": "markdown",
   "id": "4691995d",
   "metadata": {},
   "source": [
    "Check For Null Values"
   ]
  },
  {
   "cell_type": "code",
   "execution_count": null,
   "id": "014520f1",
   "metadata": {},
   "outputs": [],
   "source": [
    "data.isna().sum()"
   ]
  },
  {
   "cell_type": "markdown",
   "id": "fc929f01",
   "metadata": {},
   "source": [
    "Fill Null Values in bmi Column"
   ]
  },
  {
   "cell_type": "code",
   "execution_count": null,
   "id": "d605008a",
   "metadata": {},
   "outputs": [],
   "source": [
    "data['bmi'].fillna(data['bmi'].median(), inplace=True)"
   ]
  },
  {
   "cell_type": "code",
   "execution_count": null,
   "id": "73afdb3c",
   "metadata": {},
   "outputs": [],
   "source": [
    "data.isna().sum()"
   ]
  },
  {
   "cell_type": "markdown",
   "id": "f5f015b0",
   "metadata": {},
   "source": [
    "Check For duplicated Values"
   ]
  },
  {
   "cell_type": "code",
   "execution_count": null,
   "id": "39cb884b",
   "metadata": {},
   "outputs": [],
   "source": [
    "data.duplicated().sum()"
   ]
  },
  {
   "cell_type": "markdown",
   "id": "d48bccd4",
   "metadata": {},
   "source": [
    "Feature Engineering – Interaction & Polynomial Features"
   ]
  },
  {
   "cell_type": "code",
   "execution_count": null,
   "id": "7529fa60",
   "metadata": {},
   "outputs": [],
   "source": [
    "data['age_bmi'] = data['age'] * data['bmi']\n",
    "data['glucose_bmi'] = data['avg_glucose_level'] * data['bmi']\n",
    "data['age_glucose'] = data['age'] * data['avg_glucose_level']\n",
    "data['age_squared'] = data['age'] ** 2\n",
    "data['glucose_squared'] = data['avg_glucose_level'] ** 2\n",
    "data['bmi_squared'] = data['bmi'] ** 2\n",
    "data['age_cubed'] = data['age'] ** 3"
   ]
  },
  {
   "cell_type": "markdown",
   "id": "55ded852",
   "metadata": {},
   "source": [
    "Encoding use [Label Encoding]"
   ]
  },
  {
   "cell_type": "code",
   "execution_count": null,
   "id": "91745c9d",
   "metadata": {},
   "outputs": [],
   "source": [
    "l=data.select_dtypes(include=[\"object\"]).columns\n",
    "l"
   ]
  },
  {
   "cell_type": "markdown",
   "id": "2849aa96",
   "metadata": {},
   "source": [
    "Count Number of Other in gender Column"
   ]
  },
  {
   "cell_type": "code",
   "execution_count": null,
   "id": "8b46decb",
   "metadata": {},
   "outputs": [],
   "source": [
    "other_count = data['gender'].value_counts()['Other']\n",
    "other_count"
   ]
  },
  {
   "cell_type": "markdown",
   "id": "b7c31177",
   "metadata": {},
   "source": [
    "Remove Other in gender Column"
   ]
  },
  {
   "cell_type": "code",
   "execution_count": null,
   "id": "c74f274f",
   "metadata": {},
   "outputs": [],
   "source": [
    "data = data.drop(data[data['gender'] == 'Other'].index)"
   ]
  },
  {
   "cell_type": "code",
   "execution_count": null,
   "id": "10bda9ab",
   "metadata": {},
   "outputs": [],
   "source": [
    "for i in l :\n",
    "    print(f\"column {i} has {data[i].unique()}\")"
   ]
  },
  {
   "cell_type": "markdown",
   "id": "074b6fb3",
   "metadata": {},
   "source": [
    "Count Number of Unknown in smoking_status Column"
   ]
  },
  {
   "cell_type": "code",
   "execution_count": null,
   "id": "87515afb",
   "metadata": {},
   "outputs": [],
   "source": [
    "Unknown_count = data['smoking_status'].value_counts()['Unknown']\n",
    "Unknown_count"
   ]
  },
  {
   "cell_type": "markdown",
   "id": "3cf4db79",
   "metadata": {},
   "source": [
    "Merging Data into Working & Not Working"
   ]
  },
  {
   "cell_type": "code",
   "execution_count": null,
   "id": "b2c079f0",
   "metadata": {},
   "outputs": [],
   "source": [
    "data['work_type'] = data['work_type'].replace(['Private', 'Self-employed', 'Govt_job'], 'Working')\n",
    "data['work_type'] = data['work_type'].replace(['children', 'Never_worked'], 'Not Working')\n"
   ]
  },
  {
   "cell_type": "code",
   "execution_count": null,
   "id": "a4de289c",
   "metadata": {},
   "outputs": [],
   "source": [
    "for i in l :\n",
    "    print(f\"column{i} has {data[i].unique()}\")"
   ]
  },
  {
   "cell_type": "markdown",
   "id": "b4138b9e",
   "metadata": {},
   "source": [
    "Merging Data into smoking & not smoking"
   ]
  },
  {
   "cell_type": "code",
   "execution_count": null,
   "id": "60a762a2",
   "metadata": {},
   "outputs": [],
   "source": [
    "data['smoking_status'] = data['smoking_status'].replace(['formerly smoked', 'smokes'], 'smoking')\n",
    "data['smoking_status'] = data['smoking_status'].replace(['never smoked'], 'not smoking')"
   ]
  },
  {
   "cell_type": "code",
   "execution_count": null,
   "id": "077c0b29",
   "metadata": {},
   "outputs": [],
   "source": [
    "for i in l :\n",
    "    print(f\"column {i} has {data[i].unique()}\")"
   ]
  },
  {
   "cell_type": "code",
   "execution_count": null,
   "id": "e60960ef",
   "metadata": {},
   "outputs": [],
   "source": [
    "from sklearn.preprocessing import LabelEncoder\n",
    "label=LabelEncoder()\n",
    "for i in l:\n",
    "    data[i]=label.fit_transform(data[i])"
   ]
  },
  {
   "cell_type": "code",
   "execution_count": null,
   "id": "2d55c42f",
   "metadata": {},
   "outputs": [],
   "source": [
    "data"
   ]
  },
  {
   "cell_type": "markdown",
   "id": "7ace61bb",
   "metadata": {},
   "source": [
    "Split Data Into x & y"
   ]
  },
  {
   "cell_type": "code",
   "execution_count": null,
   "id": "bb1bd6da",
   "metadata": {},
   "outputs": [],
   "source": [
    "y=data['stroke']\n",
    "x=data.drop(['stroke'],axis=1)"
   ]
  },
  {
   "cell_type": "markdown",
   "id": "65e96aba",
   "metadata": {},
   "source": [
    "Handling Imbalanced Data With SMOTE "
   ]
  },
  {
   "cell_type": "code",
   "execution_count": null,
   "id": "c7c351f4",
   "metadata": {},
   "outputs": [],
   "source": [
    "from imblearn.over_sampling import SMOTE"
   ]
  },
  {
   "cell_type": "code",
   "execution_count": null,
   "id": "0638fa64",
   "metadata": {},
   "outputs": [],
   "source": [
    "smote = SMOTE(random_state=42)\n",
    "X_resampled, y_resampled = smote.fit_resample(x, y)"
   ]
  },
  {
   "cell_type": "markdown",
   "id": "4c5f3d2e",
   "metadata": {},
   "source": [
    "Split Data To Train & Test"
   ]
  },
  {
   "cell_type": "code",
   "execution_count": null,
   "id": "02b647c3",
   "metadata": {},
   "outputs": [],
   "source": [
    "from sklearn.model_selection import train_test_split\n",
    "x_train, x_test, y_train, y_test = train_test_split(X_resampled, y_resampled, test_size=0.2,random_state=42)"
   ]
  },
  {
   "cell_type": "markdown",
   "id": "832bd050",
   "metadata": {},
   "source": [
    "Normalization"
   ]
  },
  {
   "cell_type": "code",
   "execution_count": null,
   "id": "5feab316",
   "metadata": {},
   "outputs": [],
   "source": [
    "from sklearn.preprocessing import StandardScaler\n",
    "scaler=StandardScaler()\n",
    "x_train = scaler.fit_transform(x_train)\n",
    "x_test = scaler.transform(x_test)"
   ]
  },
  {
   "cell_type": "markdown",
   "id": "993595dc",
   "metadata": {},
   "source": [
    "Train The Model"
   ]
  },
  {
   "cell_type": "code",
   "execution_count": null,
   "id": "91841dce",
   "metadata": {},
   "outputs": [],
   "source": [
    "from sklearn.linear_model import LogisticRegression\n",
    "model=LogisticRegression()\n",
    "model.fit(x_train,y_train)"
   ]
  },
  {
   "cell_type": "code",
   "execution_count": null,
   "id": "7666567b",
   "metadata": {},
   "outputs": [],
   "source": [
    "y_train_pred=model.predict(x_train)\n",
    "y_test_pred=model.predict(x_test)"
   ]
  },
  {
   "cell_type": "markdown",
   "id": "50f40be5",
   "metadata": {},
   "source": [
    "Confusion Matrix"
   ]
  },
  {
   "cell_type": "code",
   "execution_count": null,
   "id": "f6ef3a36",
   "metadata": {},
   "outputs": [],
   "source": [
    "# for training\n",
    "\n",
    "from sklearn.metrics import confusion_matrix,ConfusionMatrixDisplay\n",
    "\n",
    "import matplotlib.pyplot as plt\n",
    "\n",
    "cm=confusion_matrix(y_train,y_train_pred)\n",
    "\n",
    "disp=ConfusionMatrixDisplay(confusion_matrix=cm)\n",
    "\n",
    "disp.plot(cmap='Blues')\n",
    "plt.title('Confusion Matrix for train')\n",
    "plt.show()"
   ]
  },
  {
   "cell_type": "code",
   "execution_count": null,
   "id": "8e62a4df",
   "metadata": {},
   "outputs": [],
   "source": [
    "# for testing\n",
    "\n",
    "cm=confusion_matrix(y_test,y_test_pred)\n",
    "\n",
    "disp=ConfusionMatrixDisplay(confusion_matrix=cm)\n",
    "\n",
    "disp.plot(cmap='Blues')\n",
    "plt.title('Confusion Matrix for test')\n",
    "plt.show()"
   ]
  },
  {
   "cell_type": "markdown",
   "id": "6bd4d770",
   "metadata": {},
   "source": [
    "Metrics"
   ]
  },
  {
   "cell_type": "code",
   "execution_count": null,
   "id": "5b73aba6",
   "metadata": {},
   "outputs": [],
   "source": [
    "from sklearn.metrics import accuracy_score, precision_score,recall_score,f1_score\n",
    "TrainAccurecy=[]\n",
    "\n",
    "TrainAccurecy.append([\n",
    "    accuracy_score(y_train,y_train_pred),\n",
    "    precision_score(y_train,y_train_pred),\n",
    "    recall_score(y_train,y_train_pred),\n",
    "    f1_score(y_train,y_train_pred)\n",
    "])"
   ]
  },
  {
   "cell_type": "code",
   "execution_count": null,
   "id": "abcf667f",
   "metadata": {},
   "outputs": [],
   "source": [
    "TrainAccurecy=pd.DataFrame(TrainAccurecy,index=['Logistic Regression'],columns=['Accurecy','Precision','Recall','f1_score'])\n",
    "\n",
    "TrainAccurecy"
   ]
  },
  {
   "cell_type": "code",
   "execution_count": null,
   "id": "d6d243b6",
   "metadata": {},
   "outputs": [],
   "source": [
    "TestAccurecy=[]\n",
    "\n",
    "TestAccurecy.append([\n",
    "    accuracy_score(y_test,y_test_pred),\n",
    "    precision_score(y_test,y_test_pred),\n",
    "    recall_score(y_test,y_test_pred),\n",
    "    f1_score(y_test,y_test_pred)\n",
    "])"
   ]
  },
  {
   "cell_type": "code",
   "execution_count": null,
   "id": "04bb6917",
   "metadata": {},
   "outputs": [],
   "source": [
    "TestAccurecy=pd.DataFrame(TestAccurecy,index=['Logistic Regression'],columns=['Accurecy','Precision','Recall','f1_score'])\n",
    "\n",
    "TestAccurecy"
   ]
  }
 ],
 "metadata": {
  "kernelspec": {
   "display_name": "Python 3",
   "language": "python",
   "name": "python3"
  },
  "language_info": {
   "codemirror_mode": {
    "name": "ipython",
    "version": 3
   },
   "file_extension": ".py",
   "mimetype": "text/x-python",
   "name": "python",
   "nbconvert_exporter": "python",
   "pygments_lexer": "ipython3",
   "version": "3.13.1"
  }
 },
 "nbformat": 4,
 "nbformat_minor": 5
}
